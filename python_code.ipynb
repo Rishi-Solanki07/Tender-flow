{
 "cells": [
  {
   "cell_type": "markdown",
   "id": "c18951f2",
   "metadata": {},
   "source": [
    "# railway site automation"
   ]
  },
  {
   "cell_type": "code",
   "execution_count": 2,
   "id": "14c2d9c2",
   "metadata": {},
   "outputs": [],
   "source": [
    "# Step 1: Import required libraries\n",
    "from selenium import webdriver\n",
    "from selenium.webdriver.chrome.options import Options\n",
    "from selenium.webdriver.chrome.service import Service\n",
    "from selenium.webdriver.support import expected_conditions as EC\n",
    "from selenium.webdriver.support.ui import WebDriverWait\n",
    "from datetime import datetime, timedelta\n",
    "import time\n",
    "from selenium.webdriver.common.by import By\n",
    "import requests\n",
    "import io\n",
    "import os\n",
    "from bs4 import BeautifulSoup\n",
    "import pandas as pd\n",
    "from openpyxl.utils import get_column_letter\n",
    "from openpyxl.styles import Font, Alignment\n",
    "from openpyxl import load_workbook\n",
    "import yagmail"
   ]
  },
  {
   "cell_type": "code",
   "execution_count": 3,
   "id": "f2eb219f",
   "metadata": {},
   "outputs": [],
   "source": [
    "# Step 2: Start Chrome and open the website\n",
    "chrome_path = r\"C:\\Path\\To\\chromedriver.exe\"  # 👉 Replace with your actual path to chromedriver\n",
    "\n",
    "chrome_options = Options()\n",
    "chrome_options.add_argument(\"--disable-gpu\")\n",
    "chrome_options.add_argument(\"--no-sandbox\") \n",
    "\n",
    "driver = webdriver.Chrome(options=chrome_options)\n",
    "\n",
    "# Open the target URL\n",
    "driver.get(\"https://www.ireps.gov.in/epsn/anonymSearchPO.do?searchParam=showPageSupply&language=en\")\n",
    "\n",
    "# Wait for page to fully load\n",
    "time.sleep(4)"
   ]
  },
  {
   "cell_type": "code",
   "execution_count": 4,
   "id": "b4a76023",
   "metadata": {},
   "outputs": [],
   "source": [
    "# ✅ Refresh the current tab (useful if data loads dynamically or expires)\n",
    "driver.refresh()\n",
    "\n",
    "# Wait again after refresh\n",
    "time.sleep(3)"
   ]
  },
  {
   "cell_type": "code",
   "execution_count": 5,
   "id": "a41cb83f",
   "metadata": {},
   "outputs": [],
   "source": [
    "# Step 3: Fill in the PO value range\n",
    "po_value_from = driver.find_element(By.ID, \"poValueFrom\")\n",
    "po_value_to = driver.find_element(By.ID, \"poValueTo\")\n",
    "\n",
    "# Clear and enter the values\n",
    "po_value_from.clear()\n",
    "po_value_from.send_keys(\"1\")\n",
    "\n",
    "po_value_to.clear()\n",
    "po_value_to.send_keys(\"99999\")"
   ]
  },
  {
   "cell_type": "code",
   "execution_count": 27,
   "id": "5182b56a",
   "metadata": {},
   "outputs": [
    {
     "name": "stdout",
     "output_type": "stream",
     "text": [
      "20/05/2025\n"
     ]
    }
   ],
   "source": [
    "# Step 1: Calculate yesterday's date in dd/mm/yyyy format\n",
    "yesterday = datetime.today() - timedelta(days=1)\n",
    "yesterday_str = yesterday.strftime(\"%d/%m/%Y\")\n",
    "print(yesterday_str)"
   ]
  },
  {
   "cell_type": "code",
   "execution_count": 57,
   "id": "8106969d",
   "metadata": {},
   "outputs": [],
   "source": [
    "# Step 3: Click the calendar icon\n",
    "calendar_icon = driver.find_element(By.XPATH, \"//img[contains(@src,'cal.gif')]\")\n",
    "calendar_icon.click()\n",
    "\n",
    "# Step 4: Wait for new window and switch to it\n",
    "WebDriverWait(driver, 10).until(lambda d: len(d.window_handles) > 1)\n",
    "main_window = driver.current_window_handle\n",
    "all_windows = driver.window_handles\n",
    "\n",
    "for window in all_windows:\n",
    "    if window != main_window:\n",
    "        driver.switch_to.window(window)\n",
    "        break\n",
    "\n",
    "# Step 5: Wait for calendar to load and select yesterday’s date\n",
    "WebDriverWait(driver, 10).until(\n",
    "    EC.presence_of_element_located((By.XPATH, f\"//td[contains(@onclick, \\\"callback('ddmmyyDateformat1','{yesterday_str}')\\\")]\"))\n",
    ")\n",
    "\n",
    "# Step 6: Click yesterday’s date\n",
    "driver.find_element(By.XPATH, f\"//td[contains(@onclick, \\\"callback('ddmmyyDateformat1','{yesterday_str}')\\\")]\").click()"
   ]
  },
  {
   "cell_type": "code",
   "execution_count": 58,
   "id": "85c1fe2c",
   "metadata": {},
   "outputs": [],
   "source": [
    "# Step 7: Switch back to the main window\n",
    "driver.switch_to.window(main_window)"
   ]
  },
  {
   "cell_type": "code",
   "execution_count": 59,
   "id": "a05508d2",
   "metadata": {},
   "outputs": [],
   "source": [
    "# Step 3: Click second calendar icon (for ddmmyyDateformat2)\n",
    "calendar_icon_2 = WebDriverWait(driver, 10).until(\n",
    "    EC.element_to_be_clickable((By.XPATH, \"//a[contains(@href, \\\"NewCal('ddmmyyDateformat2'\\\")]/img\"))\n",
    ")\n",
    "calendar_icon_2.click()\n",
    "\n",
    "# Step 4: Wait for popup window and switch to it\n",
    "WebDriverWait(driver, 10).until(lambda d: len(d.window_handles) > 1)\n",
    "for handle in driver.window_handles:\n",
    "    if handle != main_window:\n",
    "        driver.switch_to.window(handle)\n",
    "        break\n",
    "\n",
    "# Step 5: Wait and click the date (yesterday)\n",
    "WebDriverWait(driver, 10).until(\n",
    "    EC.element_to_be_clickable((By.XPATH, f\"//td[contains(@onclick, \\\"callback('ddmmyyDateformat2','{yesterday_str}')\\\")]\"))\n",
    ").click()"
   ]
  },
  {
   "cell_type": "code",
   "execution_count": 60,
   "id": "583b40a5",
   "metadata": {},
   "outputs": [],
   "source": [
    "# Step 6: Switch back to main window\n",
    "driver.switch_to.window(main_window)"
   ]
  },
  {
   "cell_type": "code",
   "execution_count": 10,
   "id": "dacb8896",
   "metadata": {},
   "outputs": [
    {
     "name": "stdout",
     "output_type": "stream",
     "text": [
      "✅ Captcha Text (first 6 characters): 17739c\n"
     ]
    }
   ],
   "source": [
    "# ✅ Step 4: Extract first 6 characters of captcha text from image URL (no OCR needed)\n",
    "\n",
    "# Find the captcha image element\n",
    "captcha_img = driver.find_element(By.XPATH, '//img[contains(@src,\"Captcha.jpg\")]')\n",
    "captcha_url = captcha_img.get_attribute('src')\n",
    "\n",
    "# Extract the captcha text from the 'r=' parameter\n",
    "import urllib.parse as urlparse\n",
    "\n",
    "parsed = urlparse.urlparse(captcha_url)\n",
    "full_captcha = urlparse.parse_qs(parsed.query).get('r', [''])[0]  # Get the 'r' value\n",
    "\n",
    "# Get only first 6 characters from the left\n",
    "captcha_text = full_captcha[:6]\n",
    "\n",
    "print(\"✅ Captcha Text (first 6 characters):\", captcha_text)"
   ]
  },
  {
   "cell_type": "code",
   "execution_count": 11,
   "id": "d29ff9d2",
   "metadata": {},
   "outputs": [],
   "source": [
    "# Step 5: Fill in captcha text and submit\n",
    "# Find the captcha input field\n",
    "captcha_input = driver.find_element(By.XPATH, '//input[@id=\"verification\"]')\n",
    "\n",
    "# Fill the captcha input field with the captcha text\n",
    "captcha_input.send_keys(captcha_text)"
   ]
  },
  {
   "cell_type": "code",
   "execution_count": 12,
   "id": "bad41ae6",
   "metadata": {},
   "outputs": [
    {
     "name": "stdout",
     "output_type": "stream",
     "text": [
      "✅ Form submitted successfully, and waited for 9 seconds.\n"
     ]
    }
   ],
   "source": [
    "# Find the submit input element by its XPath\n",
    "submit_element = driver.find_element(By.XPATH, '//input[@type=\"submit\" and @name=\"submit\" and @value=\"Show Results\"]')\n",
    "\n",
    "submit_element.click()\n",
    "# Click using JavaScript to ensure JS events fire\n",
    "            \n",
    "# Wait for 9 seconds for the results to load or any action to complete\n",
    "time.sleep(9)\n",
    "\n",
    "print(\"✅ Form submitted successfully, and waited for 9 seconds.\")"
   ]
  },
  {
   "cell_type": "markdown",
   "id": "56375337",
   "metadata": {},
   "source": [
    "let's print the total results of yesterday"
   ]
  },
  {
   "cell_type": "code",
   "execution_count": 14,
   "id": "f0489315",
   "metadata": {},
   "outputs": [
    {
     "name": "stdout",
     "output_type": "stream",
     "text": [
      "🔍 Found 24 <td class='formLabel'> elements.\n",
      "\n",
      "🟨 Found the target <td> at index 14.\n",
      "✅ Tender search result count: 696\n",
      "⚠️ Error occurred: name 'yesterday_str' is not defined\n"
     ]
    }
   ],
   "source": [
    "# ✅ Find all <td class='formLabel'> elements\n",
    "try:\n",
    "    td_elements = driver.find_elements(By.XPATH, \"//td[@class='formLabel']\")\n",
    "    print(f\"🔍 Found {len(td_elements)} <td class='formLabel'> elements.\")\n",
    "    \n",
    "    # ✅ Loop through all <td> elements and find the one containing 'Tender search results'\n",
    "    for index, td in enumerate(td_elements):\n",
    "        inner_html = td.get_attribute(\"innerHTML\")\n",
    "        \n",
    "        if 'Tender search results' in inner_html:\n",
    "            print(f\"\\n🟨 Found the target <td> at index {index}.\")\n",
    "            b_tags = td.find_elements(By.TAG_NAME, \"b\")\n",
    "            \n",
    "            if len(b_tags) >= 2:\n",
    "                result_count = b_tags[1].text.strip()\n",
    "                print(f\"✅ Tender search result count: {result_count}\")\n",
    "                print(f\"💡 Total results of {yesterday_str} is {result_count}\")\n",
    "            else:\n",
    "                print(f\"❌ Expected at least 2 <b> tags, but found {len(b_tags)}.\")\n",
    "            break\n",
    "    else:\n",
    "        print(\"❌ 'Tender search results' not found in any <td> elements.\")\n",
    "        \n",
    "except Exception as e:\n",
    "    print(\"⚠️ Error occurred:\", e)"
   ]
  },
  {
   "cell_type": "code",
   "execution_count": 15,
   "id": "948210ab",
   "metadata": {},
   "outputs": [],
   "source": [
    "# Step 1: After form submission, get HTML\n",
    "html = driver.page_source\n",
    "soup = BeautifulSoup(html, 'html.parser')\n",
    "\n",
    "# Step 2: Locate the main table\n",
    "table = soup.find('table', {'border': '1', 'bordercolor': '#4D817A'})\n",
    "\n",
    "# Step 3: Extract all rows\n",
    "rows = table.find_all('tr')[1:]  # skip header\n",
    "\n",
    "# Step 4: Prepare final data list\n",
    "data = []\n",
    "current_info = {}  # to hold Sr, Supplier, PO Value, Description\n",
    "\n",
    "for row in rows:\n",
    "    cells = row.find_all('td')\n",
    "    \n",
    "    if len(cells) >= 9:\n",
    "        # This is the first/main row (with Sr, Supplier, PO Value, etc.)\n",
    "        current_info = {\n",
    "            'Sr': cells[0].get_text(strip=True),\n",
    "            'Supplier Name': cells[1].get_text(strip=True),\n",
    "            'PO Value': cells[2].get_text(strip=True),\n",
    "            'Item Description': cells[3].get_text(strip=True),\n",
    "        }\n",
    "\n",
    "        # Now append first row\n",
    "        data.append({\n",
    "            'Sr': current_info['Sr'],\n",
    "            'Supplier Name': current_info['Supplier Name'],\n",
    "            'PO Value': current_info['PO Value'],\n",
    "            'Item Description': current_info['Item Description'],\n",
    "            'PO Sl': cells[4].get_text(strip=True),\n",
    "            'Consignee': cells[5].get_text(strip=True),\n",
    "            'PO Qty/Unit': cells[6].get_text(strip=True),\n",
    "            'T.U.R.': cells[7].get_text(strip=True),\n",
    "            'Dely.Dt': cells[8].get_text(strip=True)\n",
    "        })\n",
    "\n",
    "    elif len(cells) == 5:\n",
    "        # These are child rows - just PO Sl onwards\n",
    "        data.append({\n",
    "            'Sr': '',\n",
    "            'Supplier Name': '',\n",
    "            'PO Value': '',\n",
    "            'Item Description': '',\n",
    "            'PO Sl': cells[0].get_text(strip=True),\n",
    "            'Consignee': cells[1].get_text(strip=True),\n",
    "            'PO Qty/Unit': cells[2].get_text(strip=True),\n",
    "            'T.U.R.': cells[3].get_text(strip=True),\n",
    "            'Dely.Dt': cells[4].get_text(strip=True)\n",
    "        })"
   ]
  },
  {
   "cell_type": "code",
   "execution_count": 16,
   "id": "d96ce450",
   "metadata": {},
   "outputs": [],
   "source": [
    "# Step 5: Convert to DataFrame\n",
    "df = pd.DataFrame(data)"
   ]
  },
  {
   "cell_type": "code",
   "execution_count": 17,
   "id": "1b3fdffa",
   "metadata": {},
   "outputs": [
    {
     "data": {
      "text/html": [
       "<div>\n",
       "<style scoped>\n",
       "    .dataframe tbody tr th:only-of-type {\n",
       "        vertical-align: middle;\n",
       "    }\n",
       "\n",
       "    .dataframe tbody tr th {\n",
       "        vertical-align: top;\n",
       "    }\n",
       "\n",
       "    .dataframe thead th {\n",
       "        text-align: right;\n",
       "    }\n",
       "</style>\n",
       "<table border=\"1\" class=\"dataframe\">\n",
       "  <thead>\n",
       "    <tr style=\"text-align: right;\">\n",
       "      <th></th>\n",
       "      <th>Sr</th>\n",
       "      <th>Supplier Name</th>\n",
       "      <th>PO Value</th>\n",
       "      <th>Item Description</th>\n",
       "      <th>PO Sl</th>\n",
       "      <th>Consignee</th>\n",
       "      <th>PO Qty/Unit</th>\n",
       "      <th>T.U.R.</th>\n",
       "      <th>Dely.Dt</th>\n",
       "    </tr>\n",
       "  </thead>\n",
       "  <tbody>\n",
       "    <tr>\n",
       "      <th>0</th>\n",
       "      <td>1</td>\n",
       "      <td>SER/EF255002100014 dt. 04-MAR-2025 on M/s. NAR...</td>\n",
       "      <td>395598.96</td>\n",
       "      <td>660114760014: Spares for Electric Air Compress...</td>\n",
       "      <td>001</td>\n",
       "      <td>SSE(C&amp;W)BNDM</td>\n",
       "      <td>1 Set</td>\n",
       "      <td>395598.96</td>\n",
       "      <td>10-MAY-2025</td>\n",
       "    </tr>\n",
       "    <tr>\n",
       "      <th>1</th>\n",
       "      <td>2</td>\n",
       "      <td>ICF/04241075100346 dt. 04-MAR-2025 on M/s. DEB...</td>\n",
       "      <td>179902.8</td>\n",
       "      <td>77110043: SUPPLY AND APPLICATION OF PAINT ON B...</td>\n",
       "      <td>001</td>\n",
       "      <td>SHELL</td>\n",
       "      <td>66 Set</td>\n",
       "      <td>2725.80</td>\n",
       "      <td>30-SEP-2025</td>\n",
       "    </tr>\n",
       "    <tr>\n",
       "      <th>2</th>\n",
       "      <td>3</td>\n",
       "      <td>SECR/08251032200601 dt. 04-MAR-2025 on M/s. RA...</td>\n",
       "      <td>1057980</td>\n",
       "      <td>80014793: actevo 210 Litres Internal Combustio...</td>\n",
       "      <td>001</td>\n",
       "      <td>GSD/R</td>\n",
       "      <td>1470 LTR</td>\n",
       "      <td>114.50</td>\n",
       "      <td>23-APR-2025</td>\n",
       "    </tr>\n",
       "    <tr>\n",
       "      <th>3</th>\n",
       "      <td></td>\n",
       "      <td></td>\n",
       "      <td></td>\n",
       "      <td></td>\n",
       "      <td>002</td>\n",
       "      <td>GSD/R</td>\n",
       "      <td>4620 LTR</td>\n",
       "      <td>114.50</td>\n",
       "      <td>22-JUL-2025</td>\n",
       "    </tr>\n",
       "    <tr>\n",
       "      <th>4</th>\n",
       "      <td></td>\n",
       "      <td></td>\n",
       "      <td></td>\n",
       "      <td></td>\n",
       "      <td>003</td>\n",
       "      <td>GSD/R</td>\n",
       "      <td>3150 LTR</td>\n",
       "      <td>114.50</td>\n",
       "      <td>29-NOV-2025</td>\n",
       "    </tr>\n",
       "    <tr>\n",
       "      <th>5</th>\n",
       "      <td>4</td>\n",
       "      <td>ICF/01243144100348 dt. 04-MAR-2025 on M/s. AMA...</td>\n",
       "      <td>206293.5</td>\n",
       "      <td>72212974: THROW AWAY INSERTS LNMX 301940 PM 43...</td>\n",
       "      <td>001</td>\n",
       "      <td>SHELL</td>\n",
       "      <td>150 Nos.</td>\n",
       "      <td>1375.29</td>\n",
       "      <td>04-JUN-2025</td>\n",
       "    </tr>\n",
       "    <tr>\n",
       "      <th>6</th>\n",
       "      <td>5</td>\n",
       "      <td>ICF/01241267100350 dt. 04-MAR-2025 on M/s. PIO...</td>\n",
       "      <td>426275</td>\n",
       "      <td>73853872: HEX SOCKET HEAD CAP SCREW SIZE M12 X...</td>\n",
       "      <td>001</td>\n",
       "      <td>LHB</td>\n",
       "      <td>42500 Nos.</td>\n",
       "      <td>10.03</td>\n",
       "      <td>30-JUN-2025</td>\n",
       "    </tr>\n",
       "    <tr>\n",
       "      <th>7</th>\n",
       "      <td>6</td>\n",
       "      <td>SECR/08241006100602 dt. 04-MAR-2025 on M/s. PR...</td>\n",
       "      <td>3103332.6</td>\n",
       "      <td>80010635: Shell Carnea-41/Oil Machinery/Genera...</td>\n",
       "      <td>001</td>\n",
       "      <td>GSD/R</td>\n",
       "      <td>3546 LTR</td>\n",
       "      <td>77.22</td>\n",
       "      <td>05-MAY-2025</td>\n",
       "    </tr>\n",
       "    <tr>\n",
       "      <th>8</th>\n",
       "      <td></td>\n",
       "      <td></td>\n",
       "      <td></td>\n",
       "      <td></td>\n",
       "      <td>002</td>\n",
       "      <td>GSD/R</td>\n",
       "      <td>3400 LTR</td>\n",
       "      <td>77.22</td>\n",
       "      <td>31-OCT-2025</td>\n",
       "    </tr>\n",
       "    <tr>\n",
       "      <th>9</th>\n",
       "      <td></td>\n",
       "      <td></td>\n",
       "      <td></td>\n",
       "      <td></td>\n",
       "      <td>003</td>\n",
       "      <td>RWSS/R</td>\n",
       "      <td>2613 LTR</td>\n",
       "      <td>77.22</td>\n",
       "      <td>05-MAY-2025</td>\n",
       "    </tr>\n",
       "  </tbody>\n",
       "</table>\n",
       "</div>"
      ],
      "text/plain": [
       "  Sr                                      Supplier Name   PO Value  \\\n",
       "0  1  SER/EF255002100014 dt. 04-MAR-2025 on M/s. NAR...  395598.96   \n",
       "1  2  ICF/04241075100346 dt. 04-MAR-2025 on M/s. DEB...   179902.8   \n",
       "2  3  SECR/08251032200601 dt. 04-MAR-2025 on M/s. RA...    1057980   \n",
       "3                                                                    \n",
       "4                                                                    \n",
       "5  4  ICF/01243144100348 dt. 04-MAR-2025 on M/s. AMA...   206293.5   \n",
       "6  5  ICF/01241267100350 dt. 04-MAR-2025 on M/s. PIO...     426275   \n",
       "7  6  SECR/08241006100602 dt. 04-MAR-2025 on M/s. PR...  3103332.6   \n",
       "8                                                                    \n",
       "9                                                                    \n",
       "\n",
       "                                    Item Description PO Sl     Consignee  \\\n",
       "0  660114760014: Spares for Electric Air Compress...   001  SSE(C&W)BNDM   \n",
       "1  77110043: SUPPLY AND APPLICATION OF PAINT ON B...   001         SHELL   \n",
       "2  80014793: actevo 210 Litres Internal Combustio...   001         GSD/R   \n",
       "3                                                      002         GSD/R   \n",
       "4                                                      003         GSD/R   \n",
       "5  72212974: THROW AWAY INSERTS LNMX 301940 PM 43...   001         SHELL   \n",
       "6  73853872: HEX SOCKET HEAD CAP SCREW SIZE M12 X...   001           LHB   \n",
       "7  80010635: Shell Carnea-41/Oil Machinery/Genera...   001         GSD/R   \n",
       "8                                                      002         GSD/R   \n",
       "9                                                      003        RWSS/R   \n",
       "\n",
       "  PO Qty/Unit     T.U.R.      Dely.Dt  \n",
       "0       1 Set  395598.96  10-MAY-2025  \n",
       "1      66 Set    2725.80  30-SEP-2025  \n",
       "2    1470 LTR     114.50  23-APR-2025  \n",
       "3    4620 LTR     114.50  22-JUL-2025  \n",
       "4    3150 LTR     114.50  29-NOV-2025  \n",
       "5    150 Nos.    1375.29  04-JUN-2025  \n",
       "6  42500 Nos.      10.03  30-JUN-2025  \n",
       "7    3546 LTR      77.22  05-MAY-2025  \n",
       "8    3400 LTR      77.22  31-OCT-2025  \n",
       "9    2613 LTR      77.22  05-MAY-2025  "
      ]
     },
     "execution_count": 17,
     "metadata": {},
     "output_type": "execute_result"
    }
   ],
   "source": [
    "df.head(10)"
   ]
  },
  {
   "cell_type": "code",
   "execution_count": 18,
   "id": "aa529718",
   "metadata": {},
   "outputs": [
    {
     "name": "stdout",
     "output_type": "stream",
     "text": [
      "<class 'pandas.core.frame.DataFrame'>\n",
      "RangeIndex: 1259 entries, 0 to 1258\n",
      "Data columns (total 9 columns):\n",
      " #   Column            Non-Null Count  Dtype \n",
      "---  ------            --------------  ----- \n",
      " 0   Sr                1259 non-null   object\n",
      " 1   Supplier Name     1259 non-null   object\n",
      " 2   PO Value          1259 non-null   object\n",
      " 3   Item Description  1259 non-null   object\n",
      " 4   PO Sl             1259 non-null   object\n",
      " 5   Consignee         1259 non-null   object\n",
      " 6   PO Qty/Unit       1259 non-null   object\n",
      " 7   T.U.R.            1259 non-null   object\n",
      " 8   Dely.Dt           1259 non-null   object\n",
      "dtypes: object(9)\n",
      "memory usage: 88.7+ KB\n"
     ]
    }
   ],
   "source": [
    "df.info()"
   ]
  },
  {
   "cell_type": "markdown",
   "id": "b6c1aa19-fc56-4b4f-b50d-e842247ce912",
   "metadata": {},
   "source": [
    "set path"
   ]
  },
  {
   "cell_type": "markdown",
   "id": "cd2d5456",
   "metadata": {},
   "source": [
    "save data as csv"
   ]
  },
  {
   "cell_type": "code",
   "execution_count": 29,
   "id": "55cc9d9c",
   "metadata": {},
   "outputs": [
    {
     "name": "stdout",
     "output_type": "stream",
     "text": [
      "✅ Data saved at: c:\\users\\solan\\python_things\\railway_data\\20_05_2025_results_696.xlsx\n",
      "✅ filename: 20_05_2025_results_696.xlsx\n",
      "✅ file_Path: c:\\users\\solan\\python_things\\railway_data\\20_05_2025_results_696.xlsx\n"
     ]
    }
   ],
   "source": [
    "# 📌 Your desired folder path (replace this with your actual path)\n",
    "folder_path = r\"c:\\users\\solan\\python_things\\railway_data\"  # <-- Paste your full folder path here\n",
    "\n",
    "# ✅ Clean the date string\n",
    "clean_date = yesterday_str.replace('/', '_')  # e.g., '12052025'\n",
    "\n",
    "# ✅ Create the filename\n",
    "filename = f\"{clean_date}_results_{result_count}.xlsx\"\n",
    "\n",
    "# ✅ Full path to save\n",
    "full_path = os.path.join(folder_path, filename)\n",
    "\n",
    "# ✅ Save the CSV file\n",
    "df.to_excel(full_path, index=False)\n",
    "\n",
    "print(f\"✅ Data saved at: {full_path}\")\n",
    "print(f\"✅ filename: {filename}\")\n",
    "print(f\"✅ file_Path: {full_path}\")"
   ]
  },
  {
   "cell_type": "code",
   "execution_count": 31,
   "id": "ce0b638a",
   "metadata": {},
   "outputs": [
    {
     "name": "stdout",
     "output_type": "stream",
     "text": [
      "Column added and filter applied, and all other foramating too\n"
     ]
    }
   ],
   "source": [
    "# ✅ Load workbook for formatting\n",
    "wb = load_workbook(full_path)\n",
    "ws = wb.active\n",
    "\n",
    "# Add header to new column (next to last column)\n",
    "ws.cell(row=1, column=ws.max_column + 1).value = \"Direction/Location\"\n",
    "\n",
    "# Fill values based on Supplier Name\n",
    "for row in range(2, ws.max_row + 1):\n",
    "    supplier_name = ws.cell(row=row, column=2).value  # Column B = Supplier Name\n",
    "    if supplier_name and \"/\" in supplier_name:\n",
    "        direction = supplier_name.split(\"/\")[0]\n",
    "        ws.cell(row=row, column=ws.max_column).value = direction\n",
    "    else:\n",
    "        ws.cell(row=row, column=ws.max_column).value = \"\"\n",
    "\n",
    "# ✅ Freeze top row\n",
    "ws.freeze_panes = \"A2\"\n",
    "\n",
    "# ✅ Set zoom to 100%\n",
    "ws.sheet_view.zoomScale = 95\n",
    "\n",
    "# ✅ Column Widths (as you provided)\n",
    "column_widths = {\n",
    "    'A': 6.8,# Sr\n",
    "    'B': 35,     # Supplier Name\n",
    "    'C': 14, # PO Value\n",
    "    'D': 62,     # Item Description\n",
    "    'E': 7.5,    # PO Sl\n",
    "    'F': 15.6,   # Consignee\n",
    "    'G': 18,  # PO Qty/Unit\n",
    "    'H': 12.8,   # T.U.R.\n",
    "    'I': 19.5, #dely.dt\n",
    "    'J': 25, #direction/location which is new column\n",
    "}\n",
    "\n",
    "for col_letter, width in column_widths.items():\n",
    "    ws.column_dimensions[col_letter].width = width\n",
    "\n",
    "# ✅ Apply header font: size 14 + bold + center align\n",
    "for cell in ws[1]:\n",
    "    cell.font = Font(size=14, bold=True)\n",
    "    cell.alignment = Alignment(horizontal=\"center\", vertical=\"center\")\n",
    "\n",
    "# ✅ Apply formatting to all data rows\n",
    "for row in ws.iter_rows(min_row=2, max_row=ws.max_row, max_col=ws.max_column):\n",
    "    for cell in row:\n",
    "        cell.alignment = Alignment(horizontal=\"center\", vertical=\"center\")\n",
    "\n",
    "# ✅ Wrap Text for 'Supplier Name' (B) and 'Item Description' (D)\n",
    "for row in ws.iter_rows(min_row=2, max_row=ws.max_row):\n",
    "    row[1].alignment = Alignment(wrap_text=True, horizontal=\"center\", vertical=\"center\")  # B\n",
    "    row[3].alignment = Alignment(wrap_text=True, horizontal=\"center\", vertical=\"center\")  # D\n",
    "\n",
    "# ✅ Format 'Dely.Dt' column (I) as \"14-March-2025\"\n",
    "for row in ws.iter_rows(min_row=2, min_col=9, max_col=9):\n",
    "    for cell in row:\n",
    "        try:\n",
    "            cell.value = pd.to_datetime(cell.value).date()\n",
    "            cell.number_format = 'DD-MMMM-YYYY'\n",
    "        except:\n",
    "            continue\n",
    "\n",
    "# Apply filter to top row A1 to last column\n",
    "last_col_letter = get_column_letter(ws.max_column)\n",
    "ws.auto_filter.ref = f\"A1:{last_col_letter}1\"\n",
    "\n",
    "print(\"Column added and filter applied, and all other foramating too\")"
   ]
  },
  {
   "cell_type": "code",
   "execution_count": 32,
   "id": "6bfe6ecf",
   "metadata": {},
   "outputs": [
    {
     "name": "stdout",
     "output_type": "stream",
     "text": [
      "✅ Final Excel saved at: c:\\users\\solan\\python_things\\railway_data\\20_05_2025_results_696.xlsx\n",
      "✅ filename: 20_05_2025_results_696.xlsx\n",
      "✅ file_Path: c:\\users\\solan\\python_things\\railway_data\\20_05_2025_results_696.xlsx\n"
     ]
    }
   ],
   "source": [
    "#save information in excel\n",
    "wb.save(full_path)\n",
    "print(f\"✅ Final Excel saved at: {full_path}\")\n",
    "print(f\"✅ filename: {filename}\")\n",
    "print(f\"✅ file_Path: {full_path}\")"
   ]
  },
  {
   "cell_type": "code",
   "execution_count": 33,
   "id": "c6828eb6-8b77-4120-8dda-1239ec1fad22",
   "metadata": {
    "tags": []
   },
   "outputs": [
    {
     "name": "stdout",
     "output_type": "stream",
     "text": [
      "Email sent successfully.\n"
     ]
    }
   ],
   "source": [
    "#yogmail\n",
    "#to edit or check app password varify your email with this 'https://myaccount.google.com/apppasswords'\n",
    "\n",
    "sender_email = \"sender email\"\n",
    "app_password = \"your generated mail app password\"  # Replace with the app password\n",
    "receiver_emails = [\"receiver's email\"]\n",
    "subject = \"Railway Data Report\"\n",
    "body = f\"Hi good morning, Please find the attached Excel report of {yesterday_str} which has total result of {result_count}. Thank you.\"\n",
    "\n",
    "attachment_path = full_path  # Full path to your Excel file\n",
    "\n",
    "# Setup the yagmail client\n",
    "yag = yagmail.SMTP(user=sender_email, password=app_password)\n",
    "\n",
    "# Send the email\n",
    "yag.send(\n",
    "    to=receiver_emails,\n",
    "    subject=subject,\n",
    "    contents=body,\n",
    "    attachments=attachment_path\n",
    ")\n",
    "\n",
    "print(\"Email sent successfully.\")"
   ]
  },
  {
   "cell_type": "code",
   "execution_count": 37,
   "id": "aed5cdec-963a-4961-a797-7c5ed4f8e20e",
   "metadata": {},
   "outputs": [
    {
     "name": "stdout",
     "output_type": "stream",
     "text": [
      "tab is close now\n"
     ]
    }
   ],
   "source": [
    "# ✅ Close browser\n",
    "driver.quit()\n",
    "print(\"tab is close now\")"
   ]
  },
  {
   "cell_type": "code",
   "execution_count": null,
   "id": "94a79312-fc59-4506-a3d4-f0045812c0dc",
   "metadata": {},
   "outputs": [],
   "source": []
  }
 ],
 "metadata": {
  "kernelspec": {
   "display_name": "Python 3 (ipykernel)",
   "language": "python",
   "name": "python3"
  },
  "language_info": {
   "codemirror_mode": {
    "name": "ipython",
    "version": 3
   },
   "file_extension": ".py",
   "mimetype": "text/x-python",
   "name": "python",
   "nbconvert_exporter": "python",
   "pygments_lexer": "ipython3",
   "version": "3.11.11"
  }
 },
 "nbformat": 4,
 "nbformat_minor": 5
}
